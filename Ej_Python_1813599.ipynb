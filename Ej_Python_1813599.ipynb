{
 "cells": [
  {
   "cell_type": "markdown",
   "metadata": {},
   "source": [
    "# Ejercicio 1:\n",
    "Realiza una variable con tu matrícula y realiza una secuencia de imprimir con tu nombre y tu matricula concatenados"
   ]
  },
  {
   "cell_type": "code",
   "execution_count": 2,
   "metadata": {},
   "outputs": [
    {
     "name": "stdout",
     "output_type": "stream",
     "text": [
      "Tu nombre es Joel Gerardo Gonzalez Baltazar y tu matrícula es 1813599\n"
     ]
    }
   ],
   "source": [
    "nom = \"Joel Gerardo Gonzalez Baltazar\"\n",
    "mat = 1813599\n",
    "\n",
    "print(\"Tu nombre es %s y tu matrícula es %d\" %(nom,mat))"
   ]
  },
  {
   "cell_type": "markdown",
   "metadata": {},
   "source": [
    "# Ejercicio 2:\n",
    "Pidiendo el input del usuario, pide dos números y crea una pequeña calculadora con los operadores básicos de suma, resta, multiplicación, división y exponente. "
   ]
  },
  {
   "cell_type": "code",
   "execution_count": 4,
   "metadata": {},
   "outputs": [
    {
     "name": "stdout",
     "output_type": "stream",
     "text": [
      "Ingresa primer número: 1\n",
      "Ingresa segundo número: 2\n",
      "La suma es 3, la resta es -1, la multiplicación es 2, la división es 0.50 y el exponente es 1\n"
     ]
    }
   ],
   "source": [
    "a = int(input(\"Ingresa primer número: \"))\n",
    "b = int(input(\"Ingresa segundo número: \"))\n",
    "\n",
    "suma = a + b\n",
    "res = a - b\n",
    "mult = a*b\n",
    "div = a/b\n",
    "exp = a**b\n",
    "\n",
    "print(\"La suma es %d, la resta es %d, la multiplicación es %d, la división es %.2f y el exponente es %d\" %(suma,res,mult,div,exp))"
   ]
  },
  {
   "cell_type": "markdown",
   "metadata": {},
   "source": [
    "# Ejercicio 3:\n",
    "Con loop while o for, realiza una lista de 10 números múltiplos de 3, y después realiza una función de loop que sume todos los números dentro del arreglo."
   ]
  },
  {
   "cell_type": "code",
   "execution_count": 5,
   "metadata": {},
   "outputs": [
    {
     "name": "stdout",
     "output_type": "stream",
     "text": [
      "3\n",
      "6\n",
      "9\n",
      "12\n",
      "15\n",
      "18\n",
      "21\n",
      "24\n",
      "27\n",
      "30\n",
      "La suma de los múltiplos es: 168\n"
     ]
    }
   ],
   "source": [
    "aux = 0\n",
    "for i in range(1,31):\n",
    "    j = i%3\n",
    "    if j==0:\n",
    "        print(i)\n",
    "        suma = i + suma\n",
    "\n",
    "print(\"La suma de los múltiplos es: %d\" %(suma))\n"
   ]
  },
  {
   "cell_type": "markdown",
   "metadata": {},
   "source": [
    "# Ejercicio 4:\n",
    "Con una función de if else, revisar si un número es par o es impar.\n",
    "Con una función de if else, revisar si un número es primo o no."
   ]
  },
  {
   "cell_type": "code",
   "execution_count": 6,
   "metadata": {},
   "outputs": [
    {
     "name": "stdout",
     "output_type": "stream",
     "text": [
      "Ingresa número: 1\n",
      "El número 1 es impar\n"
     ]
    }
   ],
   "source": [
    "a = int(input(\"Ingresa número: \"))\n",
    "b = a%2\n",
    "if b==0:\n",
    "    print(\"El número %d es par\" %(a))\n",
    "else:\n",
    "    print(\"El número %d es impar\" %(a))"
   ]
  },
  {
   "cell_type": "markdown",
   "metadata": {},
   "source": [
    "# Ejercicio 5:\n",
    "Utilizando diferentes clases de python, crea una calculadora con los operadores básicos de suma, resta, multiplicación, división, y exponente."
   ]
  },
  {
   "cell_type": "code",
   "execution_count": 7,
   "metadata": {},
   "outputs": [
    {
     "name": "stdout",
     "output_type": "stream",
     "text": [
      "11\n",
      "-1\n",
      "30\n",
      "0.8333333333333334\n",
      "15625\n"
     ]
    }
   ],
   "source": [
    "def suma(a,b):\n",
    "    print (a + b)\n",
    "def resta(a,b):\n",
    "    print(a-b)\n",
    "def mult(a,b):\n",
    "    print (a*b)\n",
    "def div(a,b):\n",
    "    print(a/b)\n",
    "def exp(a,b):\n",
    "    print(a**b)\n",
    "\n",
    "suma(5,6)\n",
    "resta(5,6)\n",
    "mult(5,6)\n",
    "div(5,6)\n",
    "exp(5,6)"
   ]
  },
  {
   "cell_type": "markdown",
   "metadata": {},
   "source": [
    "# Ejercicios con estructuras básicas de python.\n",
    "### Tuplas"
   ]
  },
  {
   "cell_type": "markdown",
   "metadata": {},
   "source": [
    "Crea una variable flotante, integer, boleana y compleja e imprimir el tipo de variable que es"
   ]
  },
  {
   "cell_type": "code",
   "execution_count": 8,
   "metadata": {},
   "outputs": [
    {
     "name": "stdout",
     "output_type": "stream",
     "text": [
      "Elemento 1 es <class 'int'>\n",
      "Elemento 2 es <class 'float'>\n",
      "Elemento 3 es <class 'str'>\n",
      "Elemento 4 es <class 'complex'>\n",
      "Elemento 5 es <class 'bool'>\n"
     ]
    }
   ],
   "source": [
    "a = (1, 2.5, \"Python\", -1.5+0j, True)\n",
    "i = 1\n",
    "for item in a:\n",
    "    print(\"Elemento\", i, \"es\",type(item))\n",
    "    i = i + 1"
   ]
  },
  {
   "cell_type": "markdown",
   "metadata": {},
   "source": [
    "* Crear una tupla con valores enteros, imprimir el primer y último valor\n",
    "* Añadir 3 valores de string a la tupla\n",
    "* Verificar si una variable existe dentro de la tupla"
   ]
  },
  {
   "cell_type": "code",
   "execution_count": 9,
   "metadata": {},
   "outputs": [
    {
     "name": "stdout",
     "output_type": "stream",
     "text": [
      "40 87\n",
      "True\n"
     ]
    }
   ],
   "source": [
    "enteros = (40,21,45,36,87)\n",
    "print(enteros[0], enteros[4])\n",
    "enteros = (40, 'Tarea', 21, 45, 'Python', 36, 87, 'Codigo')\n",
    "print('Tarea' in enteros)"
   ]
  },
  {
   "cell_type": "markdown",
   "metadata": {},
   "source": [
    "### Listas"
   ]
  },
  {
   "cell_type": "markdown",
   "metadata": {},
   "source": [
    "* Crear una lista con 40 elementos aleatorios enteros.\n",
    "* Con una funcion (def) crear dos listas nuevas a partir de la lista creada por numeros aleatorios, en la cual en una esten los elementos pares, y en la otra los elementos impares.\n",
    "* Crear dos variables con la longitud de ambas listas nuevas e imprimir las variables.\n",
    "* Ordenar los elementos de la lista par de mayor a menor, y los de la lista impar de menor a mayor.\n",
    "* Utilizar al menos cuatro de las funciones de listas en python en la lista original de 40 elementos."
   ]
  },
  {
   "cell_type": "code",
   "execution_count": 10,
   "metadata": {},
   "outputs": [
    {
     "name": "stdout",
     "output_type": "stream",
     "text": [
      "[52, 57, 42, 39, 12, 67, 49, 91, 28, 45, 41, 5, 22, 19, 24, 34, 63, 47, 71, 89, 27, 75, 78, 85, 96, 97, 66, 4, 55, 40, 33, 83, 58, 21, 79, 48, 54, 50, 94, 84]\n",
      "[5, 19, 21, 27, 33, 39, 41, 45, 47, 49, 55, 57, 63, 67, 71, 75, 79, 83, 85, 89, 91, 97]\n",
      "[96, 94, 84, 78, 66, 58, 54, 52, 50, 48, 42, 40, 34, 28, 24, 22, 12, 4]\n"
     ]
    }
   ],
   "source": [
    "import random as r\n",
    "lista = range(1,100)\n",
    "a = (r.sample(lista,40))\n",
    "print(a)\n",
    "def impar(a):\n",
    "    lis=[]\n",
    "    for x in range(len(a)):\n",
    "        if a[x]%2:\n",
    "            lis.append(a[x])\n",
    "    return lis\n",
    "\n",
    "def par(a):\n",
    "    li=[]\n",
    "    for x in range(len(a)):\n",
    "        b= a[x]%2\n",
    "        if b==0:\n",
    "            li.append(a[x])\n",
    "    return li\n",
    "\n",
    "listaimp= impar(a)\n",
    "listapar= par(a)\n",
    "listaimp.sort()\n",
    "listapar.sort(reverse=True)\n",
    "print(listaimp)\n",
    "print(listapar)"
   ]
  },
  {
   "cell_type": "markdown",
   "metadata": {},
   "source": [
    "### Diccionarios"
   ]
  },
  {
   "cell_type": "markdown",
   "metadata": {},
   "source": [
    "* Crear un diccionario de 6 personas que conozcas con su primer nombre y su edad.\n",
    "* Crear una lista con los valores de la edad y reacomodar la lista de menor a mayor valor.\n",
    "* Usando el diccionario y un loop, imprimir solo los nombres.\n",
    "* Añadir dos personas nuevas a tu diccionario, incluyendo edad."
   ]
  },
  {
   "cell_type": "code",
   "execution_count": 11,
   "metadata": {},
   "outputs": [
    {
     "name": "stdout",
     "output_type": "stream",
     "text": [
      "[2, 3, 19, 28, 53, 55, 57, 60]\n",
      "Joel\n",
      "Devanny\n",
      "Martha\n",
      "Hector\n",
      "Josue\n",
      "Idali\n",
      "Fernanda\n",
      "Monica\n"
     ]
    }
   ],
   "source": [
    "diccionario = {'Nombre': ['Joel','Devanny','Martha','Hector','Josue','Idali','Fernanda','Monica'], 'Edad':[60,53,28,19,2,3,57,55]}\n",
    "lista = diccionario['Edad']\n",
    "lista.sort()\n",
    "print(lista)\n",
    "for x in range(len(diccionario['Nombre'])):\n",
    "    print(diccionario['Nombre'][x])"
   ]
  },
  {
   "cell_type": "markdown",
   "metadata": {},
   "source": [
    "### Sets"
   ]
  },
  {
   "cell_type": "markdown",
   "metadata": {},
   "source": [
    "* Crea un set con 100 numeros aleatorios enteros del 1 al 25.\n",
    "* Comprueba la longitud de tu set.\n",
    "* Crea una lista de 5 numeros aleatorios del 1 al 10 y comprueba si cada valor aparece en el set inicial."
   ]
  },
  {
   "cell_type": "code",
   "execution_count": 12,
   "metadata": {},
   "outputs": [
    {
     "ename": "AttributeError",
     "evalue": "'dict' object has no attribute 'add'",
     "output_type": "error",
     "traceback": [
      "\u001b[1;31m---------------------------------------------------------------------------\u001b[0m",
      "\u001b[1;31mAttributeError\u001b[0m                            Traceback (most recent call last)",
      "\u001b[1;32m<ipython-input-12-18cfec8a5d2f>\u001b[0m in \u001b[0;36m<module>\u001b[1;34m\u001b[0m\n\u001b[0;32m      4\u001b[0m \u001b[1;32mfor\u001b[0m \u001b[0mx\u001b[0m \u001b[1;32min\u001b[0m \u001b[0mrange\u001b[0m\u001b[1;33m(\u001b[0m\u001b[1;36m100\u001b[0m\u001b[1;33m)\u001b[0m\u001b[1;33m:\u001b[0m\u001b[1;33m\u001b[0m\u001b[1;33m\u001b[0m\u001b[0m\n\u001b[0;32m      5\u001b[0m     \u001b[0mj\u001b[0m\u001b[1;33m=\u001b[0m\u001b[0mr\u001b[0m\u001b[1;33m.\u001b[0m\u001b[0mrandint\u001b[0m\u001b[1;33m(\u001b[0m\u001b[1;36m1\u001b[0m\u001b[1;33m,\u001b[0m \u001b[1;36m26\u001b[0m\u001b[1;33m)\u001b[0m\u001b[1;33m\u001b[0m\u001b[1;33m\u001b[0m\u001b[0m\n\u001b[1;32m----> 6\u001b[1;33m     \u001b[0mset\u001b[0m\u001b[1;33m.\u001b[0m\u001b[0madd\u001b[0m\u001b[1;33m(\u001b[0m\u001b[0mj\u001b[0m\u001b[1;33m)\u001b[0m\u001b[1;33m\u001b[0m\u001b[1;33m\u001b[0m\u001b[0m\n\u001b[0m\u001b[0;32m      7\u001b[0m     \u001b[0mi\u001b[0m\u001b[1;33m=\u001b[0m\u001b[0mi\u001b[0m\u001b[1;33m+\u001b[0m\u001b[1;36m1\u001b[0m\u001b[1;33m\u001b[0m\u001b[1;33m\u001b[0m\u001b[0m\n\u001b[0;32m      8\u001b[0m \u001b[0mprint\u001b[0m\u001b[1;33m(\u001b[0m\u001b[0mset\u001b[0m\u001b[1;33m)\u001b[0m\u001b[1;33m\u001b[0m\u001b[1;33m\u001b[0m\u001b[0m\n",
      "\u001b[1;31mAttributeError\u001b[0m: 'dict' object has no attribute 'add'"
     ]
    }
   ],
   "source": [
    "import random as r\n",
    "i=0\n",
    "set={}\n",
    "for x in range(100):\n",
    "    j=r.randint(1, 26)\n",
    "    set.add(j)\n",
    "    i=i+1\n",
    "print(set)\n",
    "print(\"la longintud de esto es: \",i)\n",
    "\n",
    "#lista=()\n",
    " #   for x in range(10):\n",
    "  #  set.add((random.randint(1,11)))\n",
    "lista=()\n",
    "for x in range(10):\n",
    "    h=(r.randint(1, 11))\n",
    "    lista.add(j)\n",
    "\n",
    "for lista in range(len(set)):\n",
    "    try:\n",
    "        print(lista[i], \"-->\", set[i])\n",
    "    except:\n",
    "        print(\"Error\")"
   ]
  }
 ],
 "metadata": {
  "kernelspec": {
   "display_name": "Python 3",
   "language": "python",
   "name": "python3"
  },
  "language_info": {
   "codemirror_mode": {
    "name": "ipython",
    "version": 3
   },
   "file_extension": ".py",
   "mimetype": "text/x-python",
   "name": "python",
   "nbconvert_exporter": "python",
   "pygments_lexer": "ipython3",
   "version": "3.8.5"
  }
 },
 "nbformat": 4,
 "nbformat_minor": 4
}
